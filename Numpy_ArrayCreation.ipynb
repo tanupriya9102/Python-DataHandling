{
 "cells": [
  {
   "cell_type": "code",
   "execution_count": 4,
   "id": "14b1ca8c",
   "metadata": {},
   "outputs": [
    {
     "name": "stdout",
     "output_type": "stream",
     "text": [
      "[1 2 3 4]\n",
      "int32\n",
      "(4,)\n",
      "4\n"
     ]
    }
   ],
   "source": [
    "# 1D array\n",
    "import numpy as np\n",
    "arr1=np.array([1,2,3,4])\n",
    "print(arr1)\n",
    "print(arr1.dtype)\n",
    "print(arr1.shape)\n",
    "print(arr1.itemsize)"
   ]
  },
  {
   "cell_type": "code",
   "execution_count": 3,
   "id": "68765c1b",
   "metadata": {},
   "outputs": [
    {
     "name": "stdout",
     "output_type": "stream",
     "text": [
      "[[1 2 3 4]\n",
      " [5 6 7 8]]\n",
      "int32\n",
      "(2, 4)\n",
      "4\n"
     ]
    }
   ],
   "source": [
    "# 2D array\n",
    "arr2=np.array([[1,2,3,4],[5,6,7,8]])\n",
    "print(arr2)\n",
    "print(arr2.dtype)\n",
    "print(arr2.shape)\n",
    "print(arr2.itemsize)\n",
    "\n",
    "\n"
   ]
  },
  {
   "cell_type": "code",
   "execution_count": 14,
   "id": "3b801cc0",
   "metadata": {},
   "outputs": [
    {
     "name": "stdout",
     "output_type": "stream",
     "text": [
      "[1 2 3 4]\n",
      "[1 2 3 4]\n",
      "['T' 'a' 'n' 'u' 'P' 'r' 'i' 'y' 'a' 'P' 'a' 't' 'h' 'a' 'k']\n",
      "['T' 'a' 'n' 'u']\n",
      "[ 1.  3.  5.  7.  9. 11. 13.]\n",
      "[2.5 3.6 4.7 5.8 6.9 8. ]\n"
     ]
    }
   ],
   "source": [
    "# Ways of creating 1D numpy arrays\n",
    "# 1. Using array()\n",
    "ar1=np.array([1,2,3,4,5])\n",
    "\n",
    "\n",
    "# 2 Using fromiter\n",
    "adic={1:'A',2:'B',3:'C',4:'D'}\n",
    "alist=[1,2,3,4]\n",
    "astr=\"TanuPriyaPathak\"\n",
    "ar2=np.fromiter(adic,dtype=np.int32)\n",
    "print(ar2)\n",
    "ar3=np.fromiter(alist,dtype=np.int32)\n",
    "print(ar3)\n",
    "ar4=np.fromiter(astr,dtype=\"U2\")\n",
    "print(ar4)\n",
    "ar5=np.fromiter(astr,dtype=\"U2\",count=4)\n",
    "print(ar5)\n",
    "\n",
    "\n",
    "# 3 Using arange\n",
    "ar6=np.arange(1,15,2,dtype=np.float32)\n",
    "print(ar6)\n",
    "\n",
    "\n",
    "# 4 Using linspace(start,stop,no.of elements in between)=>equally spaced elements\n",
    "ar7=np.linspace(2.5,8,6)\n",
    "print(ar7)"
   ]
  },
  {
   "cell_type": "code",
   "execution_count": 15,
   "id": "08863a5c",
   "metadata": {},
   "outputs": [
    {
     "name": "stdout",
     "output_type": "stream",
     "text": [
      "[[1 2 3 4]\n",
      " [5 6 7 8]]\n",
      "[0 1 2 3 4 5 6 7 8 9]\n",
      "[[0 1]\n",
      " [2 3]\n",
      " [4 5]\n",
      " [6 7]\n",
      " [8 9]]\n"
     ]
    }
   ],
   "source": [
    "# Ways of creating 2D np arrays\n",
    "# 1. Using array()\n",
    "a1=np.array([[1,2,3,4],[5,6,7,8]])\n",
    "print(a1)\n",
    "\n",
    "\n",
    "# 2. Using arange() =>use of reshape()\n",
    "a2=np.arange(10)\n",
    "print(a2)\n",
    "a21=a2.reshape(5,2)\n",
    "print(a21)\n",
    "\n"
   ]
  },
  {
   "cell_type": "code",
   "execution_count": 29,
   "id": "d409c8e8",
   "metadata": {},
   "outputs": [
    {
     "name": "stdout",
     "output_type": "stream",
     "text": [
      "[[1 1 1 1]\n",
      " [1 1 1 1]\n",
      " [1 1 1 1]]\n",
      "[[0 0]\n",
      " [0 0]\n",
      " [0 0]]\n",
      "[[1 1 1]\n",
      " [1 1 1]\n",
      " [1 1 1]\n",
      " [1 1 1]]\n",
      "[[1. 0. 0. 0. 0.]\n",
      " [0. 1. 0. 0. 0.]\n",
      " [0. 0. 1. 0. 0.]\n",
      " [0. 0. 0. 1. 0.]\n",
      " [0. 0. 0. 0. 1.]]\n",
      "[[6 6 6]\n",
      " [6 6 6]]\n",
      "[[0.12892002 0.41759884 0.88480655 0.18405978]\n",
      " [0.40118987 0.35070389 0.77541226 0.69563015]\n",
      " [0.47346076 0.6685291  0.54040355 0.52081627]]\n",
      "[[0.12892002 0.41759884 0.88480655 0.18405978]\n",
      " [0.40118987 0.35070389 0.77541226 0.69563015]\n",
      " [0.47346076 0.6685291  0.54040355 0.52081627]]\n",
      "[[1 4 2 4]\n",
      " [0 4 1 4]\n",
      " [4 4 4 3]]\n"
     ]
    }
   ],
   "source": [
    "# Alternative array creation methods\n",
    "# 1.Empty arrays\n",
    "A=np.empty([3,4],dtype=np.int32,order='F')#will store garbage values,'ORDER STORES VALUES IN MEMORY C=ROW WISE F=COLUMN WISE'\n",
    "print(A)\n",
    "\n",
    "# 2. Arrays filled with zeros\n",
    "A0=np.zeros([3,2],dtype=np.int32,order='C')\n",
    "print(A0)\n",
    "\n",
    "# 3. Arrays filled with ones\n",
    "A1=np.ones([4,3],dtype=np.int32,order='C')\n",
    "print(A1)\n",
    "\n",
    "# 4.Identity matrix\n",
    "A2=np.eye(5)\n",
    "print(A2)\n",
    "\n",
    "# 5.all values as 1 number\n",
    "A3=np.full((2,3),6)\n",
    "print(A3)\n",
    "\n",
    "# 6. Random value arrays\n",
    "A31=np.random.rand(3,4)# random floats from 0-1\n",
    "print(A31)\n",
    "\n",
    "A32=np.random.rand(3,4)*100 # random floats from 0-100\n",
    "print(A31)\n",
    "\n",
    "A33=np.random.randint(5,size=(3,4))# random int from 0-4\n",
    "print(A33)\n",
    "\n"
   ]
  },
  {
   "cell_type": "code",
   "execution_count": null,
   "id": "cc5ed205",
   "metadata": {},
   "outputs": [],
   "source": []
  },
  {
   "cell_type": "code",
   "execution_count": null,
   "id": "d50fe45a",
   "metadata": {},
   "outputs": [],
   "source": []
  }
 ],
 "metadata": {
  "kernelspec": {
   "display_name": "Python 3 (ipykernel)",
   "language": "python",
   "name": "python3"
  },
  "language_info": {
   "codemirror_mode": {
    "name": "ipython",
    "version": 3
   },
   "file_extension": ".py",
   "mimetype": "text/x-python",
   "name": "python",
   "nbconvert_exporter": "python",
   "pygments_lexer": "ipython3",
   "version": "3.10.1"
  }
 },
 "nbformat": 4,
 "nbformat_minor": 5
}
