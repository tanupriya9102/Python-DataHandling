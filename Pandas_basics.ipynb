{
 "cells": [
  {
   "cell_type": "code",
   "execution_count": 1,
   "id": "a5616951",
   "metadata": {},
   "outputs": [],
   "source": [
    "import numpy as np\n",
    "import pandas as pd"
   ]
  },
  {
   "cell_type": "code",
   "execution_count": 2,
   "id": "269b9f4a",
   "metadata": {},
   "outputs": [
    {
     "name": "stdout",
     "output_type": "stream",
     "text": [
      "Empty DataFrame\n",
      "Columns: []\n",
      "Index: []\n"
     ]
    }
   ],
   "source": [
    "df=pd.DataFrame()\n",
    "print(df)"
   ]
  },
  {
   "cell_type": "code",
   "execution_count": 3,
   "id": "107955c0",
   "metadata": {},
   "outputs": [
    {
     "name": "stdout",
     "output_type": "stream",
     "text": [
      "   A1  B1  C1  D1\n",
      "0   1   2   3   4\n",
      "1   5   6   7   8\n",
      "2   9  10  11  12\n",
      "3  13  14  15  16\n"
     ]
    }
   ],
   "source": [
    "#df=pd.DataFrame([[1,2,3,4],[5,6,7,8],[9,10,11,12],[13,14,15,16]],index=['A','B','C','D'],columns=['A1','B1','C1','D1'])\n",
    "df=pd.DataFrame([[1,2,3,4],[5,6,7,8],[9,10,11,12],[13,14,15,16]],columns=['A1','B1','C1','D1'])\n",
    "print(df)"
   ]
  },
  {
   "cell_type": "code",
   "execution_count": 4,
   "id": "d35ec04f",
   "metadata": {},
   "outputs": [
    {
     "name": "stdout",
     "output_type": "stream",
     "text": [
      "   A1  B1  C1  D1\n",
      "0   1   2   3   4\n",
      "1   5   6   7   8\n",
      "2   9  10  11  12\n",
      " \n",
      "   A1  B1  C1  D1\n",
      "1   5   6   7   8\n",
      "2   9  10  11  12\n",
      "3  13  14  15  16\n"
     ]
    }
   ],
   "source": [
    "print(df.head(3)) #top 3\n",
    "print(\" \")\n",
    "print(df.tail(3)) #bottom 3"
   ]
  },
  {
   "cell_type": "code",
   "execution_count": 5,
   "id": "8eafb3b9",
   "metadata": {},
   "outputs": [
    {
     "data": {
      "text/plain": [
       "(4, 4)"
      ]
     },
     "execution_count": 5,
     "metadata": {},
     "output_type": "execute_result"
    }
   ],
   "source": [
    "df.shape"
   ]
  },
  {
   "cell_type": "code",
   "execution_count": 6,
   "id": "d178661a",
   "metadata": {},
   "outputs": [
    {
     "data": {
      "text/html": [
       "<div>\n",
       "<style scoped>\n",
       "    .dataframe tbody tr th:only-of-type {\n",
       "        vertical-align: middle;\n",
       "    }\n",
       "\n",
       "    .dataframe tbody tr th {\n",
       "        vertical-align: top;\n",
       "    }\n",
       "\n",
       "    .dataframe thead th {\n",
       "        text-align: right;\n",
       "    }\n",
       "</style>\n",
       "<table border=\"1\" class=\"dataframe\">\n",
       "  <thead>\n",
       "    <tr style=\"text-align: right;\">\n",
       "      <th></th>\n",
       "      <th>B1</th>\n",
       "      <th>C1</th>\n",
       "    </tr>\n",
       "  </thead>\n",
       "  <tbody>\n",
       "    <tr>\n",
       "      <th>0</th>\n",
       "      <td>2</td>\n",
       "      <td>3</td>\n",
       "    </tr>\n",
       "    <tr>\n",
       "      <th>2</th>\n",
       "      <td>10</td>\n",
       "      <td>11</td>\n",
       "    </tr>\n",
       "  </tbody>\n",
       "</table>\n",
       "</div>"
      ],
      "text/plain": [
       "   B1  C1\n",
       "0   2   3\n",
       "2  10  11"
      ]
     },
     "execution_count": 6,
     "metadata": {},
     "output_type": "execute_result"
    }
   ],
   "source": [
    "df.iloc[0::2,1:3]#start:stop+1:step 1st arg row 2nd arg colum\n",
    "# .loc accessing with column names"
   ]
  },
  {
   "cell_type": "code",
   "execution_count": 7,
   "id": "efd02282",
   "metadata": {},
   "outputs": [
    {
     "name": "stdout",
     "output_type": "stream",
     "text": [
      "   Students  Marks      Sport\n",
      "1      Tanu   99.4  Badminton\n",
      "2    Anusha   98.3   Football\n",
      "3     Tanya   97.5    Cricket\n",
      "4   Ananaya   96.2     Tennis\n",
      "5  Harshita   95.6     Hockey\n"
     ]
    }
   ],
   "source": [
    "# dataframe using dictionary\n",
    "dic={'Students':['Tanu','Anusha','Tanya','Ananaya','Harshita'],'Marks':[99.4,98.3,97.5,96.2,95.6],'Sport':['Badminton','Football','Cricket','Tennis','Hockey']}\n",
    "df1=pd.DataFrame(dic,index=[1,2,3,4,5])\n",
    "print(df1)"
   ]
  },
  {
   "cell_type": "code",
   "execution_count": 8,
   "id": "83957b1b",
   "metadata": {},
   "outputs": [
    {
     "name": "stdout",
     "output_type": "stream",
     "text": [
      "     2015   2016   2017   2018\n",
      "Q1  20000  25000  26000  27000\n",
      "Q2  40000  46000  45000  48000\n",
      "Q3  35000  36000  37000  34000\n",
      "Q4  55000  50000  50500  56000\n"
     ]
    }
   ],
   "source": [
    "# dataframe using 2D dictionary\n",
    "Yr2015={'Q1':20000,'Q2':40000,'Q3':35000,'Q4':55000}\n",
    "Yr2016={'Q1':25000,'Q2':46000,'Q3':36000,'Q4':50000}\n",
    "Yr2017={'Q1':26000,'Q2':45000,'Q3':37000,'Q4':50500}\n",
    "Yr2018={'Q1':27000,'Q2':48000,'Q3':34000,'Q4':56000}\n",
    "diSales={2015:Yr2015,2016:Yr2016,2017:Yr2017,2018:Yr2018}\n",
    "df1=pd.DataFrame(diSales)\n",
    "print(df1)"
   ]
  },
  {
   "cell_type": "code",
   "execution_count": 9,
   "id": "234d0ce3",
   "metadata": {},
   "outputs": [
    {
     "name": "stdout",
     "output_type": "stream",
     "text": [
      "2015    4\n",
      "2016    4\n",
      "2017    4\n",
      "2018    4\n",
      "dtype: int64\n",
      "Q1    4\n",
      "Q2    4\n",
      "Q3    4\n",
      "Q4    4\n",
      "dtype: int64\n"
     ]
    }
   ],
   "source": [
    "print(df1.count())\n",
    "print(df1.count(1))"
   ]
  },
  {
   "cell_type": "code",
   "execution_count": 10,
   "id": "f5d919bf",
   "metadata": {},
   "outputs": [
    {
     "name": "stdout",
     "output_type": "stream",
     "text": [
      "         Q1     Q2     Q3     Q4\n",
      "2015  20000  40000  35000  55000\n",
      "2016  25000  46000  36000  50000\n",
      "2017  26000  45000  37000  50500\n",
      "2018  27000  48000  34000  56000\n"
     ]
    }
   ],
   "source": [
    "# transpose dataframe\n",
    "df2=df1.T\n",
    "print(df2)"
   ]
  },
  {
   "cell_type": "code",
   "execution_count": 11,
   "id": "7988d126",
   "metadata": {},
   "outputs": [
    {
     "data": {
      "text/plain": [
       "2015    20000\n",
       "2016    25000\n",
       "2017    26000\n",
       "2018    27000\n",
       "Name: Q1, dtype: int64"
      ]
     },
     "execution_count": 11,
     "metadata": {},
     "output_type": "execute_result"
    }
   ],
   "source": [
    "# Accessing column\n",
    "# df2.Q1 or \n",
    "df2['Q1']"
   ]
  },
  {
   "cell_type": "code",
   "execution_count": 12,
   "id": "8ed5bec9",
   "metadata": {},
   "outputs": [
    {
     "data": {
      "text/html": [
       "<div>\n",
       "<style scoped>\n",
       "    .dataframe tbody tr th:only-of-type {\n",
       "        vertical-align: middle;\n",
       "    }\n",
       "\n",
       "    .dataframe tbody tr th {\n",
       "        vertical-align: top;\n",
       "    }\n",
       "\n",
       "    .dataframe thead th {\n",
       "        text-align: right;\n",
       "    }\n",
       "</style>\n",
       "<table border=\"1\" class=\"dataframe\">\n",
       "  <thead>\n",
       "    <tr style=\"text-align: right;\">\n",
       "      <th></th>\n",
       "      <th>Q1</th>\n",
       "      <th>Q2</th>\n",
       "      <th>Q3</th>\n",
       "    </tr>\n",
       "  </thead>\n",
       "  <tbody>\n",
       "    <tr>\n",
       "      <th>2015</th>\n",
       "      <td>20000</td>\n",
       "      <td>40000</td>\n",
       "      <td>35000</td>\n",
       "    </tr>\n",
       "    <tr>\n",
       "      <th>2016</th>\n",
       "      <td>25000</td>\n",
       "      <td>46000</td>\n",
       "      <td>36000</td>\n",
       "    </tr>\n",
       "    <tr>\n",
       "      <th>2017</th>\n",
       "      <td>26000</td>\n",
       "      <td>45000</td>\n",
       "      <td>37000</td>\n",
       "    </tr>\n",
       "    <tr>\n",
       "      <th>2018</th>\n",
       "      <td>27000</td>\n",
       "      <td>48000</td>\n",
       "      <td>34000</td>\n",
       "    </tr>\n",
       "  </tbody>\n",
       "</table>\n",
       "</div>"
      ],
      "text/plain": [
       "         Q1     Q2     Q3\n",
       "2015  20000  40000  35000\n",
       "2016  25000  46000  36000\n",
       "2017  26000  45000  37000\n",
       "2018  27000  48000  34000"
      ]
     },
     "execution_count": 12,
     "metadata": {},
     "output_type": "execute_result"
    }
   ],
   "source": [
    "# Accessing multiple columns\n",
    "df2[['Q1','Q2','Q3']]"
   ]
  },
  {
   "cell_type": "code",
   "execution_count": 13,
   "id": "32895abc",
   "metadata": {},
   "outputs": [],
   "source": [
    "df1[2019]=[30000,34000,35000,38000]"
   ]
  },
  {
   "cell_type": "code",
   "execution_count": 14,
   "id": "0e749b58",
   "metadata": {},
   "outputs": [
    {
     "data": {
      "text/html": [
       "<div>\n",
       "<style scoped>\n",
       "    .dataframe tbody tr th:only-of-type {\n",
       "        vertical-align: middle;\n",
       "    }\n",
       "\n",
       "    .dataframe tbody tr th {\n",
       "        vertical-align: top;\n",
       "    }\n",
       "\n",
       "    .dataframe thead th {\n",
       "        text-align: right;\n",
       "    }\n",
       "</style>\n",
       "<table border=\"1\" class=\"dataframe\">\n",
       "  <thead>\n",
       "    <tr style=\"text-align: right;\">\n",
       "      <th></th>\n",
       "      <th>2015</th>\n",
       "      <th>2016</th>\n",
       "      <th>2017</th>\n",
       "      <th>2018</th>\n",
       "      <th>2019</th>\n",
       "    </tr>\n",
       "  </thead>\n",
       "  <tbody>\n",
       "    <tr>\n",
       "      <th>Q1</th>\n",
       "      <td>20000</td>\n",
       "      <td>25000</td>\n",
       "      <td>26000</td>\n",
       "      <td>27000</td>\n",
       "      <td>30000</td>\n",
       "    </tr>\n",
       "    <tr>\n",
       "      <th>Q2</th>\n",
       "      <td>40000</td>\n",
       "      <td>46000</td>\n",
       "      <td>45000</td>\n",
       "      <td>48000</td>\n",
       "      <td>34000</td>\n",
       "    </tr>\n",
       "    <tr>\n",
       "      <th>Q3</th>\n",
       "      <td>35000</td>\n",
       "      <td>36000</td>\n",
       "      <td>37000</td>\n",
       "      <td>34000</td>\n",
       "      <td>35000</td>\n",
       "    </tr>\n",
       "    <tr>\n",
       "      <th>Q4</th>\n",
       "      <td>55000</td>\n",
       "      <td>50000</td>\n",
       "      <td>50500</td>\n",
       "      <td>56000</td>\n",
       "      <td>38000</td>\n",
       "    </tr>\n",
       "  </tbody>\n",
       "</table>\n",
       "</div>"
      ],
      "text/plain": [
       "     2015   2016   2017   2018   2019\n",
       "Q1  20000  25000  26000  27000  30000\n",
       "Q2  40000  46000  45000  48000  34000\n",
       "Q3  35000  36000  37000  34000  35000\n",
       "Q4  55000  50000  50500  56000  38000"
      ]
     },
     "execution_count": 14,
     "metadata": {},
     "output_type": "execute_result"
    }
   ],
   "source": [
    "df1"
   ]
  },
  {
   "cell_type": "code",
   "execution_count": 15,
   "id": "72db8824",
   "metadata": {},
   "outputs": [],
   "source": [
    "# merging dataframes\n",
    "df2 = pd.DataFrame([[1,2,3],[5,7,7],[5,3,7]],\n",
    "columns=['A','B','C'])"
   ]
  },
  {
   "cell_type": "code",
   "execution_count": 19,
   "id": "22ae2666",
   "metadata": {},
   "outputs": [],
   "source": [
    "df3 = pd.DataFrame([[11,7,31],[5,2,7],[13,3,33]],\n",
    "columns=['A1','B1','C1'])"
   ]
  },
  {
   "cell_type": "code",
   "execution_count": 20,
   "id": "b8e59c50",
   "metadata": {},
   "outputs": [],
   "source": [
    "\n",
    "df4=pd.merge(df2,df3,right_on='B1',left_on='B')#common values matching"
   ]
  },
  {
   "cell_type": "code",
   "execution_count": 21,
   "id": "435141ba",
   "metadata": {},
   "outputs": [
    {
     "data": {
      "text/html": [
       "<div>\n",
       "<style scoped>\n",
       "    .dataframe tbody tr th:only-of-type {\n",
       "        vertical-align: middle;\n",
       "    }\n",
       "\n",
       "    .dataframe tbody tr th {\n",
       "        vertical-align: top;\n",
       "    }\n",
       "\n",
       "    .dataframe thead th {\n",
       "        text-align: right;\n",
       "    }\n",
       "</style>\n",
       "<table border=\"1\" class=\"dataframe\">\n",
       "  <thead>\n",
       "    <tr style=\"text-align: right;\">\n",
       "      <th></th>\n",
       "      <th>A</th>\n",
       "      <th>B</th>\n",
       "      <th>C</th>\n",
       "      <th>A1</th>\n",
       "      <th>B1</th>\n",
       "      <th>C1</th>\n",
       "    </tr>\n",
       "  </thead>\n",
       "  <tbody>\n",
       "    <tr>\n",
       "      <th>0</th>\n",
       "      <td>1</td>\n",
       "      <td>2</td>\n",
       "      <td>3</td>\n",
       "      <td>5</td>\n",
       "      <td>2</td>\n",
       "      <td>7</td>\n",
       "    </tr>\n",
       "    <tr>\n",
       "      <th>1</th>\n",
       "      <td>5</td>\n",
       "      <td>7</td>\n",
       "      <td>7</td>\n",
       "      <td>11</td>\n",
       "      <td>7</td>\n",
       "      <td>31</td>\n",
       "    </tr>\n",
       "    <tr>\n",
       "      <th>2</th>\n",
       "      <td>5</td>\n",
       "      <td>3</td>\n",
       "      <td>7</td>\n",
       "      <td>13</td>\n",
       "      <td>3</td>\n",
       "      <td>33</td>\n",
       "    </tr>\n",
       "  </tbody>\n",
       "</table>\n",
       "</div>"
      ],
      "text/plain": [
       "   A  B  C  A1  B1  C1\n",
       "0  1  2  3   5   2   7\n",
       "1  5  7  7  11   7  31\n",
       "2  5  3  7  13   3  33"
      ]
     },
     "execution_count": 21,
     "metadata": {},
     "output_type": "execute_result"
    }
   ],
   "source": [
    "df4"
   ]
  },
  {
   "cell_type": "code",
   "execution_count": null,
   "id": "95510318",
   "metadata": {},
   "outputs": [],
   "source": []
  }
 ],
 "metadata": {
  "kernelspec": {
   "display_name": "Python 3 (ipykernel)",
   "language": "python",
   "name": "python3"
  },
  "language_info": {
   "codemirror_mode": {
    "name": "ipython",
    "version": 3
   },
   "file_extension": ".py",
   "mimetype": "text/x-python",
   "name": "python",
   "nbconvert_exporter": "python",
   "pygments_lexer": "ipython3",
   "version": "3.10.1"
  }
 },
 "nbformat": 4,
 "nbformat_minor": 5
}
