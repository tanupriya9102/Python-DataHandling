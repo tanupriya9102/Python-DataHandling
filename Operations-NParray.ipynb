{
 "cells": [
  {
   "cell_type": "code",
   "execution_count": 2,
   "id": "3dd8cec7",
   "metadata": {},
   "outputs": [],
   "source": [
    "import numpy as np\n"
   ]
  },
  {
   "cell_type": "code",
   "execution_count": 18,
   "id": "f7e456a9",
   "metadata": {},
   "outputs": [
    {
     "name": "stdout",
     "output_type": "stream",
     "text": [
      "[ 1  2  3  4  5  6  7  8  9 10 11 12 13 14 15 16]\n",
      "[[ 1  2  3  4]\n",
      " [ 4  5  6  7]\n",
      " [ 7  8  9 10]\n",
      " [10 11 12 13]\n",
      " [13 14 15 16]\n",
      " [10 20 30 40]]\n"
     ]
    }
   ],
   "source": [
    "arr1=np.array([1,2,3,4,5,6,7,8,9,10,11,12,13,14,15,16])\n",
    "arr2=np.array([[1,2,3,4],[4,5,6,7],[7,8,9,10],[10,11,12,13],[13,14,15,16],[10,20,30,40]])\n",
    "print(arr1)\n",
    "print(arr2)"
   ]
  },
  {
   "cell_type": "code",
   "execution_count": 9,
   "id": "9e0e25e0",
   "metadata": {},
   "outputs": [
    {
     "name": "stdout",
     "output_type": "stream",
     "text": [
      "[ 3  5  7  9 11 13 15]\n",
      "[[ 1  3]\n",
      " [ 7  9]\n",
      " [13 15]]\n",
      "[ 3  6  9 12 15]\n"
     ]
    }
   ],
   "source": [
    "# array slices\n",
    "print(arr1[2::2])\n",
    "print(arr2[::2,::2])#alternate rows and columns\n",
    "\n",
    "print(arr2[:,2])#all rows and second column\n"
   ]
  },
  {
   "cell_type": "code",
   "execution_count": 14,
   "id": "436ac403",
   "metadata": {},
   "outputs": [
    {
     "name": "stdout",
     "output_type": "stream",
     "text": [
      "[[ 1  2  3  4]\n",
      " [ 4  5  6  7]\n",
      " [ 7  8  9 10]\n",
      " [10 11 12 13]\n",
      " [13 14 15 16]\n",
      " [16 17 18 19]\n",
      " [19 20 21 22]]\n",
      "[ 1  2  3  4  4  5  6  7  7  8  9 10 10 11 12 13 13 14 15 16 16 17 18 19\n",
      " 19 20 21 22]\n"
     ]
    }
   ],
   "source": [
    "#concatenate arrays =>only same dimension arrays can be concatenated \n",
    "#axis=0 =>rows\n",
    "#axis=1=>column\n",
    "\n",
    "arr3=np.array([[16,17,18,19],[19,20,21,22]])\n",
    "c1=np.concatenate((arr2,arr3),axis=0)\n",
    "print(c1)\n",
    "\n",
    "#flattened array=>converted to 1D array\n",
    "c2=np.concatenate((arr2,arr3),axis=None)\n",
    "print(c2)"
   ]
  },
  {
   "cell_type": "code",
   "execution_count": 22,
   "id": "1b3f5201",
   "metadata": {},
   "outputs": [
    {
     "name": "stdout",
     "output_type": "stream",
     "text": [
      "hsplit\n",
      "[array([[ 1,  2],\n",
      "       [ 4,  5],\n",
      "       [ 7,  8],\n",
      "       [10, 11],\n",
      "       [13, 14],\n",
      "       [10, 20]]), array([[ 3,  4],\n",
      "       [ 6,  7],\n",
      "       [ 9, 10],\n",
      "       [12, 13],\n",
      "       [15, 16],\n",
      "       [30, 40]])]\n",
      "vsplit\n",
      "v1= [[ 1  2  3  4]\n",
      " [ 4  5  6  7]\n",
      " [ 7  8  9 10]]\n",
      "v2= [[10 11 12 13]\n",
      " [13 14 15 16]\n",
      " [10 20 30 40]]\n"
     ]
    }
   ],
   "source": [
    "# subsets of array- hsplit, vsplit, split\n",
    "print(\"hsplit\")\n",
    "h1=np.hsplit(arr2,2)\n",
    "print(h1)\n",
    "print(\"vsplit\")\n",
    "\n",
    "v1,v2=np.vsplit(arr2,2)\n",
    "print(\"v1=\",v1)\n",
    "print(\"v2=\",v2)"
   ]
  },
  {
   "cell_type": "code",
   "execution_count": 27,
   "id": "d95ed835",
   "metadata": {},
   "outputs": [
    {
     "name": "stdout",
     "output_type": "stream",
     "text": [
      "[[False False False False]\n",
      " [False  True False False]\n",
      " [False False False  True]\n",
      " [ True False False False]\n",
      " [False False  True False]\n",
      " [ True  True  True  True]]\n",
      " \n",
      "Extracted array:\n",
      "[ 5 10 10 15 10 20 30 40]\n"
     ]
    }
   ],
   "source": [
    "# Extracting condition based Non-contiguous subsets\n",
    "# np.extract(<condition>,<array>)\n",
    "con1=np.mod(arr2,5)==0\n",
    "print(con1)\n",
    "print(\" \")\n",
    "print(\"Extracted array:\")\n",
    "e1=np.extract(con1,arr2)\n",
    "print(e1)"
   ]
  },
  {
   "cell_type": "code",
   "execution_count": null,
   "id": "8e044ccc",
   "metadata": {},
   "outputs": [],
   "source": []
  }
 ],
 "metadata": {
  "kernelspec": {
   "display_name": "Python 3 (ipykernel)",
   "language": "python",
   "name": "python3"
  },
  "language_info": {
   "codemirror_mode": {
    "name": "ipython",
    "version": 3
   },
   "file_extension": ".py",
   "mimetype": "text/x-python",
   "name": "python",
   "nbconvert_exporter": "python",
   "pygments_lexer": "ipython3",
   "version": "3.10.1"
  }
 },
 "nbformat": 4,
 "nbformat_minor": 5
}
