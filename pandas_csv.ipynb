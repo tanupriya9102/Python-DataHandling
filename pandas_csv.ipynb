{
 "cells": [
  {
   "cell_type": "code",
   "execution_count": 1,
   "id": "868ccf5b",
   "metadata": {},
   "outputs": [],
   "source": [
    "import pandas as pd"
   ]
  },
  {
   "cell_type": "code",
   "execution_count": 2,
   "id": "bd10a756",
   "metadata": {},
   "outputs": [],
   "source": [
    "df=pd.read_csv('data.csv')"
   ]
  },
  {
   "cell_type": "code",
   "execution_count": 3,
   "id": "a8b0165c",
   "metadata": {},
   "outputs": [
    {
     "data": {
      "text/html": [
       "<div>\n",
       "<style scoped>\n",
       "    .dataframe tbody tr th:only-of-type {\n",
       "        vertical-align: middle;\n",
       "    }\n",
       "\n",
       "    .dataframe tbody tr th {\n",
       "        vertical-align: top;\n",
       "    }\n",
       "\n",
       "    .dataframe thead th {\n",
       "        text-align: right;\n",
       "    }\n",
       "</style>\n",
       "<table border=\"1\" class=\"dataframe\">\n",
       "  <thead>\n",
       "    <tr style=\"text-align: right;\">\n",
       "      <th></th>\n",
       "      <th>Date</th>\n",
       "      <th>Open</th>\n",
       "      <th>High</th>\n",
       "      <th>Low</th>\n",
       "      <th>Close</th>\n",
       "      <th>Shares Traded</th>\n",
       "      <th>Turnover (Rs. Cr)</th>\n",
       "    </tr>\n",
       "  </thead>\n",
       "  <tbody>\n",
       "    <tr>\n",
       "      <th>0</th>\n",
       "      <td>01-Jun-2022</td>\n",
       "      <td>16594.40</td>\n",
       "      <td>16649.20</td>\n",
       "      <td>16438.85</td>\n",
       "      <td>16522.75</td>\n",
       "      <td>249619038</td>\n",
       "      <td>19350.33</td>\n",
       "    </tr>\n",
       "    <tr>\n",
       "      <th>1</th>\n",
       "      <td>02-Jun-2022</td>\n",
       "      <td>16481.65</td>\n",
       "      <td>16646.40</td>\n",
       "      <td>16443.05</td>\n",
       "      <td>16628.00</td>\n",
       "      <td>235958283</td>\n",
       "      <td>20055.84</td>\n",
       "    </tr>\n",
       "    <tr>\n",
       "      <th>2</th>\n",
       "      <td>03-Jun-2022</td>\n",
       "      <td>16761.65</td>\n",
       "      <td>16793.85</td>\n",
       "      <td>16567.90</td>\n",
       "      <td>16584.30</td>\n",
       "      <td>245514871</td>\n",
       "      <td>22249.29</td>\n",
       "    </tr>\n",
       "    <tr>\n",
       "      <th>3</th>\n",
       "      <td>06-Jun-2022</td>\n",
       "      <td>16530.70</td>\n",
       "      <td>16610.95</td>\n",
       "      <td>16444.55</td>\n",
       "      <td>16569.55</td>\n",
       "      <td>233589132</td>\n",
       "      <td>17999.41</td>\n",
       "    </tr>\n",
       "    <tr>\n",
       "      <th>4</th>\n",
       "      <td>07-Jun-2022</td>\n",
       "      <td>16469.60</td>\n",
       "      <td>16487.25</td>\n",
       "      <td>16347.10</td>\n",
       "      <td>16416.35</td>\n",
       "      <td>233814633</td>\n",
       "      <td>17921.95</td>\n",
       "    </tr>\n",
       "  </tbody>\n",
       "</table>\n",
       "</div>"
      ],
      "text/plain": [
       "          Date      Open      High       Low     Close  Shares Traded  \\\n",
       "0  01-Jun-2022  16594.40  16649.20  16438.85  16522.75      249619038   \n",
       "1  02-Jun-2022  16481.65  16646.40  16443.05  16628.00      235958283   \n",
       "2  03-Jun-2022  16761.65  16793.85  16567.90  16584.30      245514871   \n",
       "3  06-Jun-2022  16530.70  16610.95  16444.55  16569.55      233589132   \n",
       "4  07-Jun-2022  16469.60  16487.25  16347.10  16416.35      233814633   \n",
       "\n",
       "   Turnover (Rs. Cr)  \n",
       "0           19350.33  \n",
       "1           20055.84  \n",
       "2           22249.29  \n",
       "3           17999.41  \n",
       "4           17921.95  "
      ]
     },
     "execution_count": 3,
     "metadata": {},
     "output_type": "execute_result"
    }
   ],
   "source": [
    "df.head()"
   ]
  },
  {
   "cell_type": "code",
   "execution_count": 4,
   "id": "f0644f36",
   "metadata": {},
   "outputs": [
    {
     "data": {
      "text/plain": [
       "dtype('float64')"
      ]
     },
     "execution_count": 4,
     "metadata": {},
     "output_type": "execute_result"
    }
   ],
   "source": [
    "df['Open'].dtype"
   ]
  },
  {
   "cell_type": "code",
   "execution_count": 5,
   "id": "4699bd32",
   "metadata": {},
   "outputs": [
    {
     "name": "stdout",
     "output_type": "stream",
     "text": [
      "object\n"
     ]
    }
   ],
   "source": [
    "print(df['Date'].dtype)"
   ]
  },
  {
   "cell_type": "code",
   "execution_count": 11,
   "id": "bc1c4bcf",
   "metadata": {
    "scrolled": true
   },
   "outputs": [],
   "source": [
    "# writing csv file\n",
    "df1=pd.DataFrame([[1,2,3,4],[5,6,7,8],[9,10,11,12],[13,14,15,16]],columns=['A1','B1','C1','D1'])\n",
    "df1.to_csv('export.csv')"
   ]
  },
  {
   "cell_type": "code",
   "execution_count": 12,
   "id": "cfcc0716",
   "metadata": {},
   "outputs": [],
   "source": [
    "df1.to_html('pandas page')"
   ]
  },
  {
   "cell_type": "code",
   "execution_count": null,
   "id": "09426b50",
   "metadata": {},
   "outputs": [],
   "source": []
  },
  {
   "cell_type": "code",
   "execution_count": null,
   "id": "9bae7ffe",
   "metadata": {},
   "outputs": [],
   "source": []
  },
  {
   "cell_type": "code",
   "execution_count": null,
   "id": "1605a7c8",
   "metadata": {},
   "outputs": [],
   "source": []
  },
  {
   "cell_type": "code",
   "execution_count": null,
   "id": "59131b94",
   "metadata": {},
   "outputs": [],
   "source": []
  },
  {
   "cell_type": "raw",
   "id": "453581bf",
   "metadata": {},
   "source": []
  }
 ],
 "metadata": {
  "kernelspec": {
   "display_name": "Python 3 (ipykernel)",
   "language": "python",
   "name": "python3"
  },
  "language_info": {
   "codemirror_mode": {
    "name": "ipython",
    "version": 3
   },
   "file_extension": ".py",
   "mimetype": "text/x-python",
   "name": "python",
   "nbconvert_exporter": "python",
   "pygments_lexer": "ipython3",
   "version": "3.10.1"
  }
 },
 "nbformat": 4,
 "nbformat_minor": 5
}
